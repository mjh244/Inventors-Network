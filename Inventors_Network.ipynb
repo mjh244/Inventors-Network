{
  "nbformat": 4,
  "nbformat_minor": 0,
  "metadata": {
    "colab": {
      "name": "Inventors_Network.ipynb",
      "provenance": []
    },
    "kernelspec": {
      "name": "python3",
      "display_name": "Python 3"
    }
  },
  "cells": [
    {
      "cell_type": "code",
      "metadata": {
        "id": "-GWss_qCk66Y"
      },
      "source": [
        "# Authors: McKenzie Hawkins, Alexander Mazon, Haolin Hu\r\n",
        "\r\n",
        "# Imports\r\n",
        "import csv\r\n",
        "import pandas as pd\r\n",
        "import numpy as np\r\n",
        "\r\n",
        "data = []\r\n",
        "\r\n",
        "# Opens the file and puts all of the data into the data list\r\n",
        "with open('invpat.csv','r') as file: \r\n",
        "   for line in csv.reader(file):\r\n",
        "     data.append(line) \r\n",
        "\r\n",
        "# Prints the data list to verify correct reading\r\n",
        "print(data)\r\n",
        "\r\n"
      ],
      "execution_count": null,
      "outputs": []
    }
  ]
}