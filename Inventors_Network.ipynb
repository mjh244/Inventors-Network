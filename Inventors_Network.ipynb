{
  "nbformat": 4,
  "nbformat_minor": 0,
  "metadata": {
    "colab": {
      "name": "Inventors_Network.ipynb",
      "provenance": []
    },
    "kernelspec": {
      "name": "python3",
      "display_name": "Python 3"
    }
  },
  "cells": [
    {
      "cell_type": "code",
      "metadata": {
        "id": "-GWss_qCk66Y"
      },
      "source": [
        "# Authors: McKenzie Hawkins, Alexander Mazon, Haolin Hu\r\n",
        "\r\n",
        "# Imports\r\n",
        "import csv\r\n",
        "import pandas as pd\r\n",
        "import numpy as np\r\n",
        "\r\n",
        "# Reads in the dataset to a dataframe\r\n",
        "df = pd.read_csv('/invpat.csv')\r\n",
        "\r\n"
      ],
      "execution_count": null,
      "outputs": []
    }
  ]
}